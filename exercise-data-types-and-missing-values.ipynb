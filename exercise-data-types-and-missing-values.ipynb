{
 "cells": [
  {
   "cell_type": "markdown",
   "id": "46d23261",
   "metadata": {
    "papermill": {
     "duration": 0.006083,
     "end_time": "2022-07-02T08:10:00.169947",
     "exception": false,
     "start_time": "2022-07-02T08:10:00.163864",
     "status": "completed"
    },
    "tags": []
   },
   "source": [
    "**This notebook is an exercise in the [Pandas](https://www.kaggle.com/learn/pandas) course.  You can reference the tutorial at [this link](https://www.kaggle.com/residentmario/data-types-and-missing-values).**\n",
    "\n",
    "---\n"
   ]
  },
  {
   "cell_type": "markdown",
   "id": "2edd1211",
   "metadata": {
    "papermill": {
     "duration": 0.004635,
     "end_time": "2022-07-02T08:10:00.180026",
     "exception": false,
     "start_time": "2022-07-02T08:10:00.175391",
     "status": "completed"
    },
    "tags": []
   },
   "source": [
    "# Introduction\n",
    "\n",
    "Run the following cell to load your data and some utility functions."
   ]
  },
  {
   "cell_type": "code",
   "execution_count": 1,
   "id": "88233b82",
   "metadata": {
    "execution": {
     "iopub.execute_input": "2022-07-02T08:10:00.193576Z",
     "iopub.status.busy": "2022-07-02T08:10:00.192332Z",
     "iopub.status.idle": "2022-07-02T08:10:03.722133Z",
     "shell.execute_reply": "2022-07-02T08:10:03.720705Z"
    },
    "papermill": {
     "duration": 3.541503,
     "end_time": "2022-07-02T08:10:03.726492",
     "exception": false,
     "start_time": "2022-07-02T08:10:00.184989",
     "status": "completed"
    },
    "tags": []
   },
   "outputs": [
    {
     "name": "stdout",
     "output_type": "stream",
     "text": [
      "Setup complete.\n"
     ]
    }
   ],
   "source": [
    "import pandas as pd\n",
    "\n",
    "reviews = pd.read_csv(\"../input/wine-reviews/winemag-data-130k-v2.csv\", index_col=0)\n",
    "\n",
    "from learntools.core import binder; binder.bind(globals())\n",
    "from learntools.pandas.data_types_and_missing_data import *\n",
    "print(\"Setup complete.\")"
   ]
  },
  {
   "cell_type": "markdown",
   "id": "96537cb1",
   "metadata": {
    "papermill": {
     "duration": 0.005124,
     "end_time": "2022-07-02T08:10:03.737153",
     "exception": false,
     "start_time": "2022-07-02T08:10:03.732029",
     "status": "completed"
    },
    "tags": []
   },
   "source": [
    "# Exercises"
   ]
  },
  {
   "cell_type": "markdown",
   "id": "d29c33cb",
   "metadata": {
    "papermill": {
     "duration": 0.005258,
     "end_time": "2022-07-02T08:10:03.748438",
     "exception": false,
     "start_time": "2022-07-02T08:10:03.743180",
     "status": "completed"
    },
    "tags": []
   },
   "source": [
    "## 1. \n",
    "What is the data type of the `points` column in the dataset?"
   ]
  },
  {
   "cell_type": "code",
   "execution_count": 2,
   "id": "d7f26404",
   "metadata": {
    "execution": {
     "iopub.execute_input": "2022-07-02T08:10:03.762232Z",
     "iopub.status.busy": "2022-07-02T08:10:03.761154Z",
     "iopub.status.idle": "2022-07-02T08:10:03.776001Z",
     "shell.execute_reply": "2022-07-02T08:10:03.774774Z"
    },
    "papermill": {
     "duration": 0.024766,
     "end_time": "2022-07-02T08:10:03.778873",
     "exception": false,
     "start_time": "2022-07-02T08:10:03.754107",
     "status": "completed"
    },
    "tags": []
   },
   "outputs": [
    {
     "data": {
      "application/javascript": [
       "parent.postMessage({\"jupyterEvent\": \"custom.exercise_interaction\", \"data\": {\"outcomeType\": 1, \"valueTowardsCompletion\": 0.25, \"interactionType\": 1, \"questionType\": 1, \"questionId\": \"1_PointsDtype\", \"learnToolsVersion\": \"0.3.4\", \"failureMessage\": \"\", \"exceptionClass\": \"\", \"trace\": \"\"}}, \"*\")"
      ],
      "text/plain": [
       "<IPython.core.display.Javascript object>"
      ]
     },
     "metadata": {},
     "output_type": "display_data"
    },
    {
     "data": {
      "text/markdown": [
       "<span style=\"color:#33cc33\">Correct</span>"
      ],
      "text/plain": [
       "Correct"
      ]
     },
     "metadata": {},
     "output_type": "display_data"
    }
   ],
   "source": [
    "# Your code here\n",
    "dtype = reviews.points.dtype\n",
    "\n",
    "# Check your answer\n",
    "q1.check()"
   ]
  },
  {
   "cell_type": "code",
   "execution_count": 3,
   "id": "8788c9b2",
   "metadata": {
    "execution": {
     "iopub.execute_input": "2022-07-02T08:10:03.793538Z",
     "iopub.status.busy": "2022-07-02T08:10:03.792650Z",
     "iopub.status.idle": "2022-07-02T08:10:03.797414Z",
     "shell.execute_reply": "2022-07-02T08:10:03.796400Z"
    },
    "papermill": {
     "duration": 0.015074,
     "end_time": "2022-07-02T08:10:03.800039",
     "exception": false,
     "start_time": "2022-07-02T08:10:03.784965",
     "status": "completed"
    },
    "tags": []
   },
   "outputs": [],
   "source": [
    "#q1.hint()\n",
    "#q1.solution()"
   ]
  },
  {
   "cell_type": "markdown",
   "id": "57029722",
   "metadata": {
    "papermill": {
     "duration": 0.005445,
     "end_time": "2022-07-02T08:10:03.811421",
     "exception": false,
     "start_time": "2022-07-02T08:10:03.805976",
     "status": "completed"
    },
    "tags": []
   },
   "source": [
    "## 2. \n",
    "Create a Series from entries in the `points` column, but convert the entries to strings. Hint: strings are `str` in native Python."
   ]
  },
  {
   "cell_type": "code",
   "execution_count": 4,
   "id": "ddb94c5e",
   "metadata": {
    "execution": {
     "iopub.execute_input": "2022-07-02T08:10:03.825387Z",
     "iopub.status.busy": "2022-07-02T08:10:03.824455Z",
     "iopub.status.idle": "2022-07-02T08:10:03.986200Z",
     "shell.execute_reply": "2022-07-02T08:10:03.984958Z"
    },
    "papermill": {
     "duration": 0.17167,
     "end_time": "2022-07-02T08:10:03.988666",
     "exception": false,
     "start_time": "2022-07-02T08:10:03.816996",
     "status": "completed"
    },
    "tags": []
   },
   "outputs": [
    {
     "data": {
      "application/javascript": [
       "parent.postMessage({\"jupyterEvent\": \"custom.exercise_interaction\", \"data\": {\"outcomeType\": 1, \"valueTowardsCompletion\": 0.25, \"interactionType\": 1, \"questionType\": 1, \"questionId\": \"2_StrPoints\", \"learnToolsVersion\": \"0.3.4\", \"failureMessage\": \"\", \"exceptionClass\": \"\", \"trace\": \"\"}}, \"*\")"
      ],
      "text/plain": [
       "<IPython.core.display.Javascript object>"
      ]
     },
     "metadata": {},
     "output_type": "display_data"
    },
    {
     "data": {
      "text/markdown": [
       "<span style=\"color:#33cc33\">Correct</span>"
      ],
      "text/plain": [
       "Correct"
      ]
     },
     "metadata": {},
     "output_type": "display_data"
    }
   ],
   "source": [
    "point_strings = reviews.points.astype(str)\n",
    "\n",
    "# Check your answer\n",
    "q2.check()"
   ]
  },
  {
   "cell_type": "code",
   "execution_count": 5,
   "id": "c0cad271",
   "metadata": {
    "execution": {
     "iopub.execute_input": "2022-07-02T08:10:04.003887Z",
     "iopub.status.busy": "2022-07-02T08:10:04.002886Z",
     "iopub.status.idle": "2022-07-02T08:10:04.008622Z",
     "shell.execute_reply": "2022-07-02T08:10:04.007313Z"
    },
    "papermill": {
     "duration": 0.016201,
     "end_time": "2022-07-02T08:10:04.011271",
     "exception": false,
     "start_time": "2022-07-02T08:10:03.995070",
     "status": "completed"
    },
    "tags": []
   },
   "outputs": [],
   "source": [
    "#q2.hint()\n",
    "#q2.solution()"
   ]
  },
  {
   "cell_type": "markdown",
   "id": "21dd0c3b",
   "metadata": {
    "papermill": {
     "duration": 0.005776,
     "end_time": "2022-07-02T08:10:04.023316",
     "exception": false,
     "start_time": "2022-07-02T08:10:04.017540",
     "status": "completed"
    },
    "tags": []
   },
   "source": [
    "## 3.\n",
    "Sometimes the price column is null. How many reviews in the dataset are missing a price?"
   ]
  },
  {
   "cell_type": "code",
   "execution_count": 6,
   "id": "9fc48ef6",
   "metadata": {
    "execution": {
     "iopub.execute_input": "2022-07-02T08:10:04.038329Z",
     "iopub.status.busy": "2022-07-02T08:10:04.036921Z",
     "iopub.status.idle": "2022-07-02T08:10:04.057509Z",
     "shell.execute_reply": "2022-07-02T08:10:04.056628Z"
    },
    "papermill": {
     "duration": 0.030779,
     "end_time": "2022-07-02T08:10:04.060008",
     "exception": false,
     "start_time": "2022-07-02T08:10:04.029229",
     "status": "completed"
    },
    "tags": []
   },
   "outputs": [
    {
     "data": {
      "application/javascript": [
       "parent.postMessage({\"jupyterEvent\": \"custom.exercise_interaction\", \"data\": {\"outcomeType\": 1, \"valueTowardsCompletion\": 0.25, \"interactionType\": 1, \"questionType\": 1, \"questionId\": \"3_CountMissingPrices\", \"learnToolsVersion\": \"0.3.4\", \"failureMessage\": \"\", \"exceptionClass\": \"\", \"trace\": \"\"}}, \"*\")"
      ],
      "text/plain": [
       "<IPython.core.display.Javascript object>"
      ]
     },
     "metadata": {},
     "output_type": "display_data"
    },
    {
     "data": {
      "text/markdown": [
       "<span style=\"color:#33cc33\">Correct</span>"
      ],
      "text/plain": [
       "Correct"
      ]
     },
     "metadata": {},
     "output_type": "display_data"
    }
   ],
   "source": [
    "missing_price_reviews = reviews[reviews.price.isnull()]\n",
    "n_missing_prices = len(missing_price_reviews)\n",
    "#n_missing_prices = reviews.price.isnull().sum()\n",
    "#n_missing_prices = pd.isnull(reviews.price).sum()\n",
    "\n",
    "# Check your answer\n",
    "q3.check()"
   ]
  },
  {
   "cell_type": "code",
   "execution_count": 7,
   "id": "48167854",
   "metadata": {
    "execution": {
     "iopub.execute_input": "2022-07-02T08:10:04.075777Z",
     "iopub.status.busy": "2022-07-02T08:10:04.074880Z",
     "iopub.status.idle": "2022-07-02T08:10:04.080667Z",
     "shell.execute_reply": "2022-07-02T08:10:04.079478Z"
    },
    "papermill": {
     "duration": 0.016279,
     "end_time": "2022-07-02T08:10:04.083059",
     "exception": false,
     "start_time": "2022-07-02T08:10:04.066780",
     "status": "completed"
    },
    "tags": []
   },
   "outputs": [],
   "source": [
    "#q3.hint()\n",
    "#q3.solution()"
   ]
  },
  {
   "cell_type": "markdown",
   "id": "c8d2a517",
   "metadata": {
    "papermill": {
     "duration": 0.005685,
     "end_time": "2022-07-02T08:10:04.094905",
     "exception": false,
     "start_time": "2022-07-02T08:10:04.089220",
     "status": "completed"
    },
    "tags": []
   },
   "source": [
    "## 4.\n",
    "What are the most common wine-producing regions? Create a Series counting the number of times each value occurs in the `region_1` field. This field is often missing data, so replace missing values with `Unknown`. Sort in descending order.  Your output should look something like this:\n",
    "\n",
    "```\n",
    "Unknown                    21247\n",
    "Napa Valley                 4480\n",
    "                           ...  \n",
    "Bardolino Superiore            1\n",
    "Primitivo del Tarantino        1\n",
    "Name: region_1, Length: 1230, dtype: int64\n",
    "```"
   ]
  },
  {
   "cell_type": "code",
   "execution_count": 8,
   "id": "93f4db40",
   "metadata": {
    "execution": {
     "iopub.execute_input": "2022-07-02T08:10:04.109669Z",
     "iopub.status.busy": "2022-07-02T08:10:04.108395Z",
     "iopub.status.idle": "2022-07-02T08:10:04.197137Z",
     "shell.execute_reply": "2022-07-02T08:10:04.195662Z"
    },
    "papermill": {
     "duration": 0.098654,
     "end_time": "2022-07-02T08:10:04.199502",
     "exception": false,
     "start_time": "2022-07-02T08:10:04.100848",
     "status": "completed"
    },
    "tags": []
   },
   "outputs": [
    {
     "data": {
      "application/javascript": [
       "parent.postMessage({\"jupyterEvent\": \"custom.exercise_interaction\", \"data\": {\"outcomeType\": 1, \"valueTowardsCompletion\": 0.25, \"interactionType\": 1, \"questionType\": 2, \"questionId\": \"4_ReviewsPerRegion\", \"learnToolsVersion\": \"0.3.4\", \"failureMessage\": \"\", \"exceptionClass\": \"\", \"trace\": \"\"}}, \"*\")"
      ],
      "text/plain": [
       "<IPython.core.display.Javascript object>"
      ]
     },
     "metadata": {},
     "output_type": "display_data"
    },
    {
     "data": {
      "text/markdown": [
       "<span style=\"color:#33cc33\">Correct</span>"
      ],
      "text/plain": [
       "Correct"
      ]
     },
     "metadata": {},
     "output_type": "display_data"
    }
   ],
   "source": [
    "reviews_per_region = reviews.region_1.fillna('Unknown').value_counts().sort_values(ascending=False)\n",
    "\n",
    "\n",
    "# Check your answer\n",
    "q4.check()"
   ]
  },
  {
   "cell_type": "code",
   "execution_count": 9,
   "id": "153188ff",
   "metadata": {
    "execution": {
     "iopub.execute_input": "2022-07-02T08:10:04.215636Z",
     "iopub.status.busy": "2022-07-02T08:10:04.214693Z",
     "iopub.status.idle": "2022-07-02T08:10:04.220848Z",
     "shell.execute_reply": "2022-07-02T08:10:04.219439Z"
    },
    "papermill": {
     "duration": 0.017769,
     "end_time": "2022-07-02T08:10:04.223551",
     "exception": false,
     "start_time": "2022-07-02T08:10:04.205782",
     "status": "completed"
    },
    "tags": []
   },
   "outputs": [],
   "source": [
    "#q4.hint()\n",
    "#q4.solution()"
   ]
  },
  {
   "cell_type": "markdown",
   "id": "62df0802",
   "metadata": {
    "papermill": {
     "duration": 0.00614,
     "end_time": "2022-07-02T08:10:04.236486",
     "exception": false,
     "start_time": "2022-07-02T08:10:04.230346",
     "status": "completed"
    },
    "tags": []
   },
   "source": [
    "# Keep going\n",
    "\n",
    "Move on to **[renaming and combining](https://www.kaggle.com/residentmario/renaming-and-combining)**."
   ]
  },
  {
   "cell_type": "markdown",
   "id": "90ea1067",
   "metadata": {
    "papermill": {
     "duration": 0.005875,
     "end_time": "2022-07-02T08:10:04.249143",
     "exception": false,
     "start_time": "2022-07-02T08:10:04.243268",
     "status": "completed"
    },
    "tags": []
   },
   "source": [
    "---\n",
    "\n",
    "\n",
    "\n",
    "\n",
    "*Have questions or comments? Visit the [course discussion forum](https://www.kaggle.com/learn/pandas/discussion) to chat with other learners.*"
   ]
  }
 ],
 "metadata": {
  "kernelspec": {
   "display_name": "Python 3",
   "language": "python",
   "name": "python3"
  },
  "language_info": {
   "codemirror_mode": {
    "name": "ipython",
    "version": 3
   },
   "file_extension": ".py",
   "mimetype": "text/x-python",
   "name": "python",
   "nbconvert_exporter": "python",
   "pygments_lexer": "ipython3",
   "version": "3.7.12"
  },
  "papermill": {
   "default_parameters": {},
   "duration": 15.468958,
   "end_time": "2022-07-02T08:10:05.280281",
   "environment_variables": {},
   "exception": null,
   "input_path": "__notebook__.ipynb",
   "output_path": "__notebook__.ipynb",
   "parameters": {},
   "start_time": "2022-07-02T08:09:49.811323",
   "version": "2.3.4"
  }
 },
 "nbformat": 4,
 "nbformat_minor": 5
}
