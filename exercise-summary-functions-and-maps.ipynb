{
 "cells": [
  {
   "cell_type": "markdown",
   "id": "486777af",
   "metadata": {
    "papermill": {
     "duration": 0.008193,
     "end_time": "2022-07-02T07:49:35.137315",
     "exception": false,
     "start_time": "2022-07-02T07:49:35.129122",
     "status": "completed"
    },
    "tags": []
   },
   "source": [
    "**This notebook is an exercise in the [Pandas](https://www.kaggle.com/learn/pandas) course.  You can reference the tutorial at [this link](https://www.kaggle.com/residentmario/summary-functions-and-maps).**\n",
    "\n",
    "---\n"
   ]
  },
  {
   "cell_type": "markdown",
   "id": "a9957d35",
   "metadata": {
    "papermill": {
     "duration": 0.006826,
     "end_time": "2022-07-02T07:49:35.151501",
     "exception": false,
     "start_time": "2022-07-02T07:49:35.144675",
     "status": "completed"
    },
    "tags": []
   },
   "source": [
    "# Introduction\n",
    "\n",
    "Now you are ready to get a deeper understanding of your data.\n",
    "\n",
    "Run the following cell to load your data and some utility functions (including code to check your answers)."
   ]
  },
  {
   "cell_type": "code",
   "execution_count": 1,
   "id": "c638e172",
   "metadata": {
    "execution": {
     "iopub.execute_input": "2022-07-02T07:49:35.167838Z",
     "iopub.status.busy": "2022-07-02T07:49:35.167269Z",
     "iopub.status.idle": "2022-07-02T07:49:43.198204Z",
     "shell.execute_reply": "2022-07-02T07:49:43.197019Z"
    },
    "papermill": {
     "duration": 8.041893,
     "end_time": "2022-07-02T07:49:43.200741",
     "exception": false,
     "start_time": "2022-07-02T07:49:35.158848",
     "status": "completed"
    },
    "tags": []
   },
   "outputs": [
    {
     "name": "stdout",
     "output_type": "stream",
     "text": [
      "Setup complete.\n"
     ]
    },
    {
     "data": {
      "text/html": [
       "<div>\n",
       "<style scoped>\n",
       "    .dataframe tbody tr th:only-of-type {\n",
       "        vertical-align: middle;\n",
       "    }\n",
       "\n",
       "    .dataframe tbody tr th {\n",
       "        vertical-align: top;\n",
       "    }\n",
       "\n",
       "    .dataframe thead th {\n",
       "        text-align: right;\n",
       "    }\n",
       "</style>\n",
       "<table border=\"1\" class=\"dataframe\">\n",
       "  <thead>\n",
       "    <tr style=\"text-align: right;\">\n",
       "      <th></th>\n",
       "      <th>country</th>\n",
       "      <th>description</th>\n",
       "      <th>designation</th>\n",
       "      <th>points</th>\n",
       "      <th>price</th>\n",
       "      <th>province</th>\n",
       "      <th>region_1</th>\n",
       "      <th>region_2</th>\n",
       "      <th>taster_name</th>\n",
       "      <th>taster_twitter_handle</th>\n",
       "      <th>title</th>\n",
       "      <th>variety</th>\n",
       "      <th>winery</th>\n",
       "    </tr>\n",
       "  </thead>\n",
       "  <tbody>\n",
       "    <tr>\n",
       "      <th>0</th>\n",
       "      <td>Italy</td>\n",
       "      <td>Aromas include tropical fruit, broom, brimston...</td>\n",
       "      <td>Vulkà Bianco</td>\n",
       "      <td>87</td>\n",
       "      <td>NaN</td>\n",
       "      <td>Sicily &amp; Sardinia</td>\n",
       "      <td>Etna</td>\n",
       "      <td>NaN</td>\n",
       "      <td>Kerin O’Keefe</td>\n",
       "      <td>@kerinokeefe</td>\n",
       "      <td>Nicosia 2013 Vulkà Bianco  (Etna)</td>\n",
       "      <td>White Blend</td>\n",
       "      <td>Nicosia</td>\n",
       "    </tr>\n",
       "    <tr>\n",
       "      <th>1</th>\n",
       "      <td>Portugal</td>\n",
       "      <td>This is ripe and fruity, a wine that is smooth...</td>\n",
       "      <td>Avidagos</td>\n",
       "      <td>87</td>\n",
       "      <td>15.0</td>\n",
       "      <td>Douro</td>\n",
       "      <td>NaN</td>\n",
       "      <td>NaN</td>\n",
       "      <td>Roger Voss</td>\n",
       "      <td>@vossroger</td>\n",
       "      <td>Quinta dos Avidagos 2011 Avidagos Red (Douro)</td>\n",
       "      <td>Portuguese Red</td>\n",
       "      <td>Quinta dos Avidagos</td>\n",
       "    </tr>\n",
       "    <tr>\n",
       "      <th>2</th>\n",
       "      <td>US</td>\n",
       "      <td>Tart and snappy, the flavors of lime flesh and...</td>\n",
       "      <td>NaN</td>\n",
       "      <td>87</td>\n",
       "      <td>14.0</td>\n",
       "      <td>Oregon</td>\n",
       "      <td>Willamette Valley</td>\n",
       "      <td>Willamette Valley</td>\n",
       "      <td>Paul Gregutt</td>\n",
       "      <td>@paulgwine</td>\n",
       "      <td>Rainstorm 2013 Pinot Gris (Willamette Valley)</td>\n",
       "      <td>Pinot Gris</td>\n",
       "      <td>Rainstorm</td>\n",
       "    </tr>\n",
       "    <tr>\n",
       "      <th>3</th>\n",
       "      <td>US</td>\n",
       "      <td>Pineapple rind, lemon pith and orange blossom ...</td>\n",
       "      <td>Reserve Late Harvest</td>\n",
       "      <td>87</td>\n",
       "      <td>13.0</td>\n",
       "      <td>Michigan</td>\n",
       "      <td>Lake Michigan Shore</td>\n",
       "      <td>NaN</td>\n",
       "      <td>Alexander Peartree</td>\n",
       "      <td>NaN</td>\n",
       "      <td>St. Julian 2013 Reserve Late Harvest Riesling ...</td>\n",
       "      <td>Riesling</td>\n",
       "      <td>St. Julian</td>\n",
       "    </tr>\n",
       "    <tr>\n",
       "      <th>4</th>\n",
       "      <td>US</td>\n",
       "      <td>Much like the regular bottling from 2012, this...</td>\n",
       "      <td>Vintner's Reserve Wild Child Block</td>\n",
       "      <td>87</td>\n",
       "      <td>65.0</td>\n",
       "      <td>Oregon</td>\n",
       "      <td>Willamette Valley</td>\n",
       "      <td>Willamette Valley</td>\n",
       "      <td>Paul Gregutt</td>\n",
       "      <td>@paulgwine</td>\n",
       "      <td>Sweet Cheeks 2012 Vintner's Reserve Wild Child...</td>\n",
       "      <td>Pinot Noir</td>\n",
       "      <td>Sweet Cheeks</td>\n",
       "    </tr>\n",
       "  </tbody>\n",
       "</table>\n",
       "</div>"
      ],
      "text/plain": [
       "    country                                        description  \\\n",
       "0     Italy  Aromas include tropical fruit, broom, brimston...   \n",
       "1  Portugal  This is ripe and fruity, a wine that is smooth...   \n",
       "2        US  Tart and snappy, the flavors of lime flesh and...   \n",
       "3        US  Pineapple rind, lemon pith and orange blossom ...   \n",
       "4        US  Much like the regular bottling from 2012, this...   \n",
       "\n",
       "                          designation  points  price           province  \\\n",
       "0                        Vulkà Bianco      87    NaN  Sicily & Sardinia   \n",
       "1                            Avidagos      87   15.0              Douro   \n",
       "2                                 NaN      87   14.0             Oregon   \n",
       "3                Reserve Late Harvest      87   13.0           Michigan   \n",
       "4  Vintner's Reserve Wild Child Block      87   65.0             Oregon   \n",
       "\n",
       "              region_1           region_2         taster_name  \\\n",
       "0                 Etna                NaN       Kerin O’Keefe   \n",
       "1                  NaN                NaN          Roger Voss   \n",
       "2    Willamette Valley  Willamette Valley        Paul Gregutt   \n",
       "3  Lake Michigan Shore                NaN  Alexander Peartree   \n",
       "4    Willamette Valley  Willamette Valley        Paul Gregutt   \n",
       "\n",
       "  taster_twitter_handle                                              title  \\\n",
       "0          @kerinokeefe                  Nicosia 2013 Vulkà Bianco  (Etna)   \n",
       "1            @vossroger      Quinta dos Avidagos 2011 Avidagos Red (Douro)   \n",
       "2           @paulgwine       Rainstorm 2013 Pinot Gris (Willamette Valley)   \n",
       "3                   NaN  St. Julian 2013 Reserve Late Harvest Riesling ...   \n",
       "4           @paulgwine   Sweet Cheeks 2012 Vintner's Reserve Wild Child...   \n",
       "\n",
       "          variety               winery  \n",
       "0     White Blend              Nicosia  \n",
       "1  Portuguese Red  Quinta dos Avidagos  \n",
       "2      Pinot Gris            Rainstorm  \n",
       "3        Riesling           St. Julian  \n",
       "4      Pinot Noir         Sweet Cheeks  "
      ]
     },
     "execution_count": 1,
     "metadata": {},
     "output_type": "execute_result"
    }
   ],
   "source": [
    "import pandas as pd\n",
    "pd.set_option(\"display.max_rows\", 5)\n",
    "reviews = pd.read_csv(\"../input/wine-reviews/winemag-data-130k-v2.csv\", index_col=0)\n",
    "\n",
    "from learntools.core import binder; binder.bind(globals())\n",
    "from learntools.pandas.summary_functions_and_maps import *\n",
    "print(\"Setup complete.\")\n",
    "\n",
    "reviews.head()"
   ]
  },
  {
   "cell_type": "markdown",
   "id": "37976588",
   "metadata": {
    "papermill": {
     "duration": 0.007171,
     "end_time": "2022-07-02T07:49:43.215298",
     "exception": false,
     "start_time": "2022-07-02T07:49:43.208127",
     "status": "completed"
    },
    "tags": []
   },
   "source": [
    "# Exercises"
   ]
  },
  {
   "cell_type": "markdown",
   "id": "a8a98b2c",
   "metadata": {
    "papermill": {
     "duration": 0.006905,
     "end_time": "2022-07-02T07:49:43.229416",
     "exception": false,
     "start_time": "2022-07-02T07:49:43.222511",
     "status": "completed"
    },
    "tags": []
   },
   "source": [
    "## 1.\n",
    "\n",
    "What is the median of the `points` column in the `reviews` DataFrame?"
   ]
  },
  {
   "cell_type": "code",
   "execution_count": 2,
   "id": "7084bcb9",
   "metadata": {
    "execution": {
     "iopub.execute_input": "2022-07-02T07:49:43.245753Z",
     "iopub.status.busy": "2022-07-02T07:49:43.245318Z",
     "iopub.status.idle": "2022-07-02T07:49:43.257496Z",
     "shell.execute_reply": "2022-07-02T07:49:43.256628Z"
    },
    "papermill": {
     "duration": 0.023122,
     "end_time": "2022-07-02T07:49:43.259695",
     "exception": false,
     "start_time": "2022-07-02T07:49:43.236573",
     "status": "completed"
    },
    "tags": []
   },
   "outputs": [
    {
     "data": {
      "application/javascript": [
       "parent.postMessage({\"jupyterEvent\": \"custom.exercise_interaction\", \"data\": {\"outcomeType\": 1, \"valueTowardsCompletion\": 0.14285714285714285, \"interactionType\": 1, \"questionType\": 1, \"questionId\": \"1_MedianPoints\", \"learnToolsVersion\": \"0.3.4\", \"failureMessage\": \"\", \"exceptionClass\": \"\", \"trace\": \"\"}}, \"*\")"
      ],
      "text/plain": [
       "<IPython.core.display.Javascript object>"
      ]
     },
     "metadata": {},
     "output_type": "display_data"
    },
    {
     "data": {
      "text/markdown": [
       "<span style=\"color:#33cc33\">Correct</span>"
      ],
      "text/plain": [
       "Correct"
      ]
     },
     "metadata": {},
     "output_type": "display_data"
    }
   ],
   "source": [
    "median_points = reviews.points.median()\n",
    "\n",
    "# Check your answer\n",
    "q1.check()"
   ]
  },
  {
   "cell_type": "code",
   "execution_count": 3,
   "id": "afeceaa9",
   "metadata": {
    "execution": {
     "iopub.execute_input": "2022-07-02T07:49:43.277110Z",
     "iopub.status.busy": "2022-07-02T07:49:43.276350Z",
     "iopub.status.idle": "2022-07-02T07:49:43.281425Z",
     "shell.execute_reply": "2022-07-02T07:49:43.280480Z"
    },
    "papermill": {
     "duration": 0.016386,
     "end_time": "2022-07-02T07:49:43.283602",
     "exception": false,
     "start_time": "2022-07-02T07:49:43.267216",
     "status": "completed"
    },
    "tags": []
   },
   "outputs": [],
   "source": [
    "#q1.hint()\n",
    "#q1.solution()"
   ]
  },
  {
   "cell_type": "markdown",
   "id": "bcd8b329",
   "metadata": {
    "papermill": {
     "duration": 0.007365,
     "end_time": "2022-07-02T07:49:43.298344",
     "exception": false,
     "start_time": "2022-07-02T07:49:43.290979",
     "status": "completed"
    },
    "tags": []
   },
   "source": [
    "## 2. \n",
    "What countries are represented in the dataset? (Your answer should not include any duplicates.)"
   ]
  },
  {
   "cell_type": "code",
   "execution_count": 4,
   "id": "552545a1",
   "metadata": {
    "execution": {
     "iopub.execute_input": "2022-07-02T07:49:43.315284Z",
     "iopub.status.busy": "2022-07-02T07:49:43.314898Z",
     "iopub.status.idle": "2022-07-02T07:49:43.337255Z",
     "shell.execute_reply": "2022-07-02T07:49:43.336402Z"
    },
    "papermill": {
     "duration": 0.033417,
     "end_time": "2022-07-02T07:49:43.339427",
     "exception": false,
     "start_time": "2022-07-02T07:49:43.306010",
     "status": "completed"
    },
    "tags": []
   },
   "outputs": [
    {
     "data": {
      "application/javascript": [
       "parent.postMessage({\"jupyterEvent\": \"custom.exercise_interaction\", \"data\": {\"outcomeType\": 1, \"valueTowardsCompletion\": 0.14285714285714285, \"interactionType\": 1, \"questionType\": 2, \"questionId\": \"2_UniqueCountries\", \"learnToolsVersion\": \"0.3.4\", \"failureMessage\": \"\", \"exceptionClass\": \"\", \"trace\": \"\"}}, \"*\")"
      ],
      "text/plain": [
       "<IPython.core.display.Javascript object>"
      ]
     },
     "metadata": {},
     "output_type": "display_data"
    },
    {
     "data": {
      "text/markdown": [
       "<span style=\"color:#33cc33\">Correct</span>"
      ],
      "text/plain": [
       "Correct"
      ]
     },
     "metadata": {},
     "output_type": "display_data"
    }
   ],
   "source": [
    "countries = reviews.country.unique()\n",
    "\n",
    "# Check your answer\n",
    "q2.check()"
   ]
  },
  {
   "cell_type": "code",
   "execution_count": 5,
   "id": "3d8b1d91",
   "metadata": {
    "execution": {
     "iopub.execute_input": "2022-07-02T07:49:43.357378Z",
     "iopub.status.busy": "2022-07-02T07:49:43.356720Z",
     "iopub.status.idle": "2022-07-02T07:49:43.361041Z",
     "shell.execute_reply": "2022-07-02T07:49:43.360199Z"
    },
    "papermill": {
     "duration": 0.01589,
     "end_time": "2022-07-02T07:49:43.363081",
     "exception": false,
     "start_time": "2022-07-02T07:49:43.347191",
     "status": "completed"
    },
    "tags": []
   },
   "outputs": [],
   "source": [
    "#q2.hint()\n",
    "#q2.solution()"
   ]
  },
  {
   "cell_type": "markdown",
   "id": "34105be4",
   "metadata": {
    "papermill": {
     "duration": 0.007528,
     "end_time": "2022-07-02T07:49:43.378378",
     "exception": false,
     "start_time": "2022-07-02T07:49:43.370850",
     "status": "completed"
    },
    "tags": []
   },
   "source": [
    "## 3.\n",
    "How often does each country appear in the dataset? Create a Series `reviews_per_country` mapping countries to the count of reviews of wines from that country."
   ]
  },
  {
   "cell_type": "code",
   "execution_count": 6,
   "id": "79275436",
   "metadata": {
    "execution": {
     "iopub.execute_input": "2022-07-02T07:49:43.396203Z",
     "iopub.status.busy": "2022-07-02T07:49:43.395486Z",
     "iopub.status.idle": "2022-07-02T07:49:43.424593Z",
     "shell.execute_reply": "2022-07-02T07:49:43.423440Z"
    },
    "papermill": {
     "duration": 0.040602,
     "end_time": "2022-07-02T07:49:43.426801",
     "exception": false,
     "start_time": "2022-07-02T07:49:43.386199",
     "status": "completed"
    },
    "tags": []
   },
   "outputs": [
    {
     "data": {
      "application/javascript": [
       "parent.postMessage({\"jupyterEvent\": \"custom.exercise_interaction\", \"data\": {\"outcomeType\": 1, \"valueTowardsCompletion\": 0.14285714285714285, \"interactionType\": 1, \"questionType\": 1, \"questionId\": \"3_ReviewsPerCountry\", \"learnToolsVersion\": \"0.3.4\", \"failureMessage\": \"\", \"exceptionClass\": \"\", \"trace\": \"\"}}, \"*\")"
      ],
      "text/plain": [
       "<IPython.core.display.Javascript object>"
      ]
     },
     "metadata": {},
     "output_type": "display_data"
    },
    {
     "data": {
      "text/markdown": [
       "<span style=\"color:#33cc33\">Correct</span>"
      ],
      "text/plain": [
       "Correct"
      ]
     },
     "metadata": {},
     "output_type": "display_data"
    }
   ],
   "source": [
    "reviews_per_country = reviews.country.value_counts()\n",
    "\n",
    "# Check your answer\n",
    "q3.check()"
   ]
  },
  {
   "cell_type": "code",
   "execution_count": 7,
   "id": "71495219",
   "metadata": {
    "execution": {
     "iopub.execute_input": "2022-07-02T07:49:43.444155Z",
     "iopub.status.busy": "2022-07-02T07:49:43.443784Z",
     "iopub.status.idle": "2022-07-02T07:49:43.448479Z",
     "shell.execute_reply": "2022-07-02T07:49:43.447309Z"
    },
    "papermill": {
     "duration": 0.01611,
     "end_time": "2022-07-02T07:49:43.450803",
     "exception": false,
     "start_time": "2022-07-02T07:49:43.434693",
     "status": "completed"
    },
    "tags": []
   },
   "outputs": [],
   "source": [
    "#q3.hint()\n",
    "#q3.solution()"
   ]
  },
  {
   "cell_type": "markdown",
   "id": "0b09d25a",
   "metadata": {
    "papermill": {
     "duration": 0.007768,
     "end_time": "2022-07-02T07:49:43.466747",
     "exception": false,
     "start_time": "2022-07-02T07:49:43.458979",
     "status": "completed"
    },
    "tags": []
   },
   "source": [
    "## 4.\n",
    "Create variable `centered_price` containing a version of the `price` column with the mean price subtracted.\n",
    "\n",
    "(Note: this 'centering' transformation is a common preprocessing step before applying various machine learning algorithms.) "
   ]
  },
  {
   "cell_type": "code",
   "execution_count": 8,
   "id": "c3105107",
   "metadata": {
    "execution": {
     "iopub.execute_input": "2022-07-02T07:49:43.484852Z",
     "iopub.status.busy": "2022-07-02T07:49:43.484419Z",
     "iopub.status.idle": "2022-07-02T07:49:43.495190Z",
     "shell.execute_reply": "2022-07-02T07:49:43.494447Z"
    },
    "papermill": {
     "duration": 0.022251,
     "end_time": "2022-07-02T07:49:43.497144",
     "exception": false,
     "start_time": "2022-07-02T07:49:43.474893",
     "status": "completed"
    },
    "tags": []
   },
   "outputs": [
    {
     "data": {
      "application/javascript": [
       "parent.postMessage({\"jupyterEvent\": \"custom.exercise_interaction\", \"data\": {\"outcomeType\": 1, \"valueTowardsCompletion\": 0.14285714285714285, \"interactionType\": 1, \"questionType\": 1, \"questionId\": \"4_CenteredPrice\", \"learnToolsVersion\": \"0.3.4\", \"failureMessage\": \"\", \"exceptionClass\": \"\", \"trace\": \"\"}}, \"*\")"
      ],
      "text/plain": [
       "<IPython.core.display.Javascript object>"
      ]
     },
     "metadata": {},
     "output_type": "display_data"
    },
    {
     "data": {
      "text/markdown": [
       "<span style=\"color:#33cc33\">Correct</span>"
      ],
      "text/plain": [
       "Correct"
      ]
     },
     "metadata": {},
     "output_type": "display_data"
    }
   ],
   "source": [
    "centered_price = reviews.price - reviews.price.mean()\n",
    "\n",
    "# Check your answer\n",
    "q4.check()"
   ]
  },
  {
   "cell_type": "code",
   "execution_count": 9,
   "id": "ad262c08",
   "metadata": {
    "execution": {
     "iopub.execute_input": "2022-07-02T07:49:43.516408Z",
     "iopub.status.busy": "2022-07-02T07:49:43.515652Z",
     "iopub.status.idle": "2022-07-02T07:49:43.519313Z",
     "shell.execute_reply": "2022-07-02T07:49:43.518598Z"
    },
    "papermill": {
     "duration": 0.015392,
     "end_time": "2022-07-02T07:49:43.521417",
     "exception": false,
     "start_time": "2022-07-02T07:49:43.506025",
     "status": "completed"
    },
    "tags": []
   },
   "outputs": [],
   "source": [
    "#q4.hint()\n",
    "#q4.solution()"
   ]
  },
  {
   "cell_type": "markdown",
   "id": "47d26880",
   "metadata": {
    "papermill": {
     "duration": 0.008082,
     "end_time": "2022-07-02T07:49:43.537903",
     "exception": false,
     "start_time": "2022-07-02T07:49:43.529821",
     "status": "completed"
    },
    "tags": []
   },
   "source": [
    "## 5.\n",
    "I'm an economical wine buyer. Which wine is the \"best bargain\"? Create a variable `bargain_wine` with the title of the wine with the highest points-to-price ratio in the dataset."
   ]
  },
  {
   "cell_type": "code",
   "execution_count": 10,
   "id": "3dc5452e",
   "metadata": {
    "execution": {
     "iopub.execute_input": "2022-07-02T07:49:43.557261Z",
     "iopub.status.busy": "2022-07-02T07:49:43.556581Z",
     "iopub.status.idle": "2022-07-02T07:49:43.570519Z",
     "shell.execute_reply": "2022-07-02T07:49:43.569397Z"
    },
    "papermill": {
     "duration": 0.026414,
     "end_time": "2022-07-02T07:49:43.572933",
     "exception": false,
     "start_time": "2022-07-02T07:49:43.546519",
     "status": "completed"
    },
    "tags": []
   },
   "outputs": [
    {
     "data": {
      "application/javascript": [
       "parent.postMessage({\"jupyterEvent\": \"custom.exercise_interaction\", \"data\": {\"outcomeType\": 1, \"valueTowardsCompletion\": 0.14285714285714285, \"interactionType\": 1, \"questionType\": 2, \"questionId\": \"5_BargainWine\", \"learnToolsVersion\": \"0.3.4\", \"failureMessage\": \"\", \"exceptionClass\": \"\", \"trace\": \"\"}}, \"*\")"
      ],
      "text/plain": [
       "<IPython.core.display.Javascript object>"
      ]
     },
     "metadata": {},
     "output_type": "display_data"
    },
    {
     "data": {
      "text/markdown": [
       "<span style=\"color:#33cc33\">Correct</span>"
      ],
      "text/plain": [
       "Correct"
      ]
     },
     "metadata": {},
     "output_type": "display_data"
    }
   ],
   "source": [
    "bargain_index=(reviews.points / reviews.price).idxmax()\n",
    "bargain_wine = reviews.loc[bargain_index,'title']\n",
    "\n",
    "# Check your answer\n",
    "q5.check()"
   ]
  },
  {
   "cell_type": "code",
   "execution_count": 11,
   "id": "1c6f9bf7",
   "metadata": {
    "execution": {
     "iopub.execute_input": "2022-07-02T07:49:43.592303Z",
     "iopub.status.busy": "2022-07-02T07:49:43.591496Z",
     "iopub.status.idle": "2022-07-02T07:49:43.596370Z",
     "shell.execute_reply": "2022-07-02T07:49:43.595398Z"
    },
    "papermill": {
     "duration": 0.017279,
     "end_time": "2022-07-02T07:49:43.598715",
     "exception": false,
     "start_time": "2022-07-02T07:49:43.581436",
     "status": "completed"
    },
    "tags": []
   },
   "outputs": [],
   "source": [
    "#q5.hint()\n",
    "#q5.solution()"
   ]
  },
  {
   "cell_type": "markdown",
   "id": "57421a50",
   "metadata": {
    "papermill": {
     "duration": 0.008309,
     "end_time": "2022-07-02T07:49:43.615997",
     "exception": false,
     "start_time": "2022-07-02T07:49:43.607688",
     "status": "completed"
    },
    "tags": []
   },
   "source": [
    "## 6.\n",
    "There are only so many words you can use when describing a bottle of wine. Is a wine more likely to be \"tropical\" or \"fruity\"? Create a Series `descriptor_counts` counting how many times each of these two words appears in the `description` column in the dataset. (For simplicity, let's ignore the capitalized versions of these words.)"
   ]
  },
  {
   "cell_type": "code",
   "execution_count": 12,
   "id": "3267df0f",
   "metadata": {
    "execution": {
     "iopub.execute_input": "2022-07-02T07:49:43.635471Z",
     "iopub.status.busy": "2022-07-02T07:49:43.634669Z",
     "iopub.status.idle": "2022-07-02T07:49:43.790175Z",
     "shell.execute_reply": "2022-07-02T07:49:43.789002Z"
    },
    "papermill": {
     "duration": 0.168037,
     "end_time": "2022-07-02T07:49:43.792633",
     "exception": false,
     "start_time": "2022-07-02T07:49:43.624596",
     "status": "completed"
    },
    "tags": []
   },
   "outputs": [
    {
     "data": {
      "application/javascript": [
       "parent.postMessage({\"jupyterEvent\": \"custom.exercise_interaction\", \"data\": {\"outcomeType\": 1, \"valueTowardsCompletion\": 0.14285714285714285, \"interactionType\": 1, \"questionType\": 1, \"questionId\": \"6_DescriptorCounts\", \"learnToolsVersion\": \"0.3.4\", \"failureMessage\": \"\", \"exceptionClass\": \"\", \"trace\": \"\"}}, \"*\")"
      ],
      "text/plain": [
       "<IPython.core.display.Javascript object>"
      ]
     },
     "metadata": {},
     "output_type": "display_data"
    },
    {
     "data": {
      "text/markdown": [
       "<span style=\"color:#33cc33\">Correct</span>"
      ],
      "text/plain": [
       "Correct"
      ]
     },
     "metadata": {},
     "output_type": "display_data"
    }
   ],
   "source": [
    "n_trop = reviews.description.map(lambda desc: \"tropical\" in desc).sum()\n",
    "n_fruity = reviews.description.map(lambda desc: \"fruity\" in desc).sum()\n",
    "descriptor_counts = pd.Series([n_trop, n_fruity], index=['tropical', 'fruity'])\n",
    "\n",
    "# Check your answer\n",
    "q6.check()"
   ]
  },
  {
   "cell_type": "code",
   "execution_count": 13,
   "id": "49fe8d1b",
   "metadata": {
    "execution": {
     "iopub.execute_input": "2022-07-02T07:49:43.812734Z",
     "iopub.status.busy": "2022-07-02T07:49:43.812270Z",
     "iopub.status.idle": "2022-07-02T07:49:43.816751Z",
     "shell.execute_reply": "2022-07-02T07:49:43.815486Z"
    },
    "papermill": {
     "duration": 0.017674,
     "end_time": "2022-07-02T07:49:43.819226",
     "exception": false,
     "start_time": "2022-07-02T07:49:43.801552",
     "status": "completed"
    },
    "tags": []
   },
   "outputs": [],
   "source": [
    "#q6.hint()\n",
    "#q6.solution()"
   ]
  },
  {
   "cell_type": "markdown",
   "id": "e5157872",
   "metadata": {
    "papermill": {
     "duration": 0.008573,
     "end_time": "2022-07-02T07:49:43.836807",
     "exception": false,
     "start_time": "2022-07-02T07:49:43.828234",
     "status": "completed"
    },
    "tags": []
   },
   "source": [
    "## 7.\n",
    "We'd like to host these wine reviews on our website, but a rating system ranging from 80 to 100 points is too hard to understand - we'd like to translate them into simple star ratings. A score of 95 or higher counts as 3 stars, a score of at least 85 but less than 95 is 2 stars. Any other score is 1 star.\n",
    "\n",
    "Also, the Canadian Vintners Association bought a lot of ads on the site, so any wines from Canada should automatically get 3 stars, regardless of points.\n",
    "\n",
    "Create a series `star_ratings` with the number of stars corresponding to each review in the dataset."
   ]
  },
  {
   "cell_type": "code",
   "execution_count": 14,
   "id": "db9c51d7",
   "metadata": {
    "execution": {
     "iopub.execute_input": "2022-07-02T07:49:43.856679Z",
     "iopub.status.busy": "2022-07-02T07:49:43.856075Z",
     "iopub.status.idle": "2022-07-02T07:49:48.718907Z",
     "shell.execute_reply": "2022-07-02T07:49:48.717567Z"
    },
    "papermill": {
     "duration": 4.875886,
     "end_time": "2022-07-02T07:49:48.721565",
     "exception": false,
     "start_time": "2022-07-02T07:49:43.845679",
     "status": "completed"
    },
    "tags": []
   },
   "outputs": [
    {
     "data": {
      "application/javascript": [
       "parent.postMessage({\"jupyterEvent\": \"custom.exercise_interaction\", \"data\": {\"outcomeType\": 1, \"valueTowardsCompletion\": 0.14285714285714285, \"interactionType\": 1, \"questionType\": 1, \"questionId\": \"7_StarRatings\", \"learnToolsVersion\": \"0.3.4\", \"failureMessage\": \"\", \"exceptionClass\": \"\", \"trace\": \"\"}}, \"*\")"
      ],
      "text/plain": [
       "<IPython.core.display.Javascript object>"
      ]
     },
     "metadata": {},
     "output_type": "display_data"
    },
    {
     "data": {
      "text/markdown": [
       "<span style=\"color:#33cc33\">Correct</span>"
      ],
      "text/plain": [
       "Correct"
      ]
     },
     "metadata": {},
     "output_type": "display_data"
    }
   ],
   "source": [
    "def stars(row):\n",
    "    if row.country == 'Canada':\n",
    "        return 3\n",
    "    elif row.points >= 95:\n",
    "        return 3\n",
    "    elif row.points >= 85:\n",
    "        return 2\n",
    "    else:\n",
    "        return 1\n",
    "\n",
    "star_ratings = reviews.apply(stars, axis='columns')\n",
    "\n",
    "# Check your answer\n",
    "q7.check()"
   ]
  },
  {
   "cell_type": "code",
   "execution_count": 15,
   "id": "5c24cc4d",
   "metadata": {
    "execution": {
     "iopub.execute_input": "2022-07-02T07:49:48.744273Z",
     "iopub.status.busy": "2022-07-02T07:49:48.743904Z",
     "iopub.status.idle": "2022-07-02T07:49:48.749456Z",
     "shell.execute_reply": "2022-07-02T07:49:48.748350Z"
    },
    "papermill": {
     "duration": 0.019997,
     "end_time": "2022-07-02T07:49:48.751632",
     "exception": false,
     "start_time": "2022-07-02T07:49:48.731635",
     "status": "completed"
    },
    "tags": []
   },
   "outputs": [],
   "source": [
    "#q7.hint()\n",
    "#q7.solution()"
   ]
  },
  {
   "cell_type": "markdown",
   "id": "9a498f83",
   "metadata": {
    "papermill": {
     "duration": 0.00884,
     "end_time": "2022-07-02T07:49:48.769412",
     "exception": false,
     "start_time": "2022-07-02T07:49:48.760572",
     "status": "completed"
    },
    "tags": []
   },
   "source": [
    "# Keep going\n",
    "Continue to **[grouping and sorting](https://www.kaggle.com/residentmario/grouping-and-sorting)**."
   ]
  },
  {
   "cell_type": "markdown",
   "id": "2eac643f",
   "metadata": {
    "papermill": {
     "duration": 0.008884,
     "end_time": "2022-07-02T07:49:48.787922",
     "exception": false,
     "start_time": "2022-07-02T07:49:48.779038",
     "status": "completed"
    },
    "tags": []
   },
   "source": [
    "---\n",
    "\n",
    "\n",
    "\n",
    "\n",
    "*Have questions or comments? Visit the [course discussion forum](https://www.kaggle.com/learn/pandas/discussion) to chat with other learners.*"
   ]
  }
 ],
 "metadata": {
  "kernelspec": {
   "display_name": "Python 3",
   "language": "python",
   "name": "python3"
  },
  "language_info": {
   "codemirror_mode": {
    "name": "ipython",
    "version": 3
   },
   "file_extension": ".py",
   "mimetype": "text/x-python",
   "name": "python",
   "nbconvert_exporter": "python",
   "pygments_lexer": "ipython3",
   "version": "3.7.12"
  },
  "papermill": {
   "default_parameters": {},
   "duration": 24.996728,
   "end_time": "2022-07-02T07:49:49.518175",
   "environment_variables": {},
   "exception": null,
   "input_path": "__notebook__.ipynb",
   "output_path": "__notebook__.ipynb",
   "parameters": {},
   "start_time": "2022-07-02T07:49:24.521447",
   "version": "2.3.4"
  }
 },
 "nbformat": 4,
 "nbformat_minor": 5
}
